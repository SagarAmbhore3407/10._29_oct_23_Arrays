{
 "cells": [
  {
   "cell_type": "markdown",
   "metadata": {},
   "source": [
    "::Arrays::"
   ]
  },
  {
   "cell_type": "code",
   "execution_count": 7,
   "metadata": {},
   "outputs": [
    {
     "name": "stdout",
     "output_type": "stream",
     "text": [
      "Is Array = [1, 2, 4, 2, 5, 9] contains duplicate elements..? -> True\n",
      "Is Array = [1, 9, 4, 8, 5, 10] contains duplicate elements..? -> False\n"
     ]
    }
   ],
   "source": [
    "#1. Given an array, check if it contains any duplicates or not. \n",
    "#   arr = [1, 2, 4, 2, 5, 9] Output = True\n",
    "\n",
    "def isDuplicate(arr):\n",
    "    for i in range(len(arr)):\n",
    "        if (arr[i] in arr[0:i]) or (arr[i] in arr[i+1:]):\n",
    "            return True\n",
    "    return False  \n",
    "\n",
    "\n",
    "arr = [1, 2, 4, 2, 5, 9]  #Has duplicate element\n",
    "arr2 = [1, 9, 4, 8, 5,10] #Non duplicate elements\n",
    "print(f\"Is Array = {arr} contains duplicate elements..? ->\",isDuplicate(arr))\n",
    "print(f\"Is Array = {arr2} contains duplicate elements..? ->\",isDuplicate(arr2))\n",
    "        \n"
   ]
  },
  {
   "cell_type": "code",
   "execution_count": 9,
   "metadata": {},
   "outputs": [
    {
     "name": "stdout",
     "output_type": "stream",
     "text": [
      "[1, 2, 3, 4, 5, 6, 7]\n",
      "[5, 6, 7, 1, 2, 3, 4]\n"
     ]
    }
   ],
   "source": [
    "#2. Given an array and an integer k, rotate the array to the right by k steps. \n",
    "#   arr = [1, 2, 3, 4, 5, 6, 7] k = 3  Output = [5, 6, 7, 1, 2, 3, 4]\n",
    "\n",
    "\n",
    "# Method 1\n",
    "def rotate(arr,k):\n",
    "    for i in range(k):\n",
    "        prev = arr[0]\n",
    "        curr = arr[0]\n",
    "        arr[0] = arr[len(arr)-1]\n",
    "        j = 1\n",
    "        while j<len(arr):\n",
    "            prev = arr[j]\n",
    "            arr[j] = curr\n",
    "            curr = prev\n",
    "            j+=1\n",
    "\n",
    "            \n",
    "# Method 2         \n",
    "def reverse_rec(arr, si,ei):\n",
    "    if si>=ei:\n",
    "        return\n",
    "    arr[si],arr[ei] = arr[ei],arr[si]\n",
    "    reverse_rec(arr,si+1,ei-1)\n",
    "    \n",
    "    \n",
    "            \n",
    "def rotateArray(arr,k):\n",
    "    reverse_rec(arr,0,len(arr)-1)\n",
    "\n",
    "    reverse_rec(arr,0,k-1)\n",
    "\n",
    "    reverse_rec(arr,k,len(arr)-1)\n",
    "    \n",
    "    \n",
    "            \n",
    "arr = [1, 2, 3, 4, 5, 6, 7] \n",
    "k = 3 \n",
    "print(arr)      \n",
    "rotateArray(arr,k) \n",
    "print(arr)  \n"
   ]
  },
  {
   "cell_type": "code",
   "execution_count": 11,
   "metadata": {},
   "outputs": [
    {
     "name": "stdout",
     "output_type": "stream",
     "text": [
      "[2, 4, 5, 7, 9, 12]\n",
      "[12, 9, 7, 5, 4, 2]\n"
     ]
    }
   ],
   "source": [
    "# 3.Reverse the given array in-place, means without using any extra data structure. \n",
    "# arr = [2, 4, 5, 7, 9, 12] \n",
    "# Output = [12, 9, 7, 5, 4, 2]\n",
    "\n",
    "def reverseArr(arr):\n",
    "    sIndex = 0\n",
    "    eIndex = len(arr)-1\n",
    "    \n",
    "    while sIndex <= eIndex:\n",
    "        arr[sIndex],arr[eIndex] = arr[eIndex],arr[sIndex]\n",
    "        sIndex += 1\n",
    "        eIndex -= 1\n",
    "    return arr\n",
    "\n",
    "arr1 = [2, 4, 5, 7, 9, 12] \n",
    "print(arr1)\n",
    "print(reverseArr(arr1))\n",
    "        "
   ]
  },
  {
   "cell_type": "code",
   "execution_count": 16,
   "metadata": {},
   "outputs": [
    {
     "name": "stdout",
     "output_type": "stream",
     "text": [
      "5\n",
      "20\n",
      "8\n",
      "15\n",
      "20\n"
     ]
    }
   ],
   "source": [
    "#  4. Given an array of integers, find the maximum element in an array\n",
    "#  arr = [10, 5, 20, 8, 15]\n",
    "#  Output = 20\n",
    "\n",
    "def findMax(arr):\n",
    "    \n",
    "    maximum = arr[0]\n",
    "    \n",
    "    for i in range(len(arr)-1):\n",
    "        if arr[i+1] > maximum:\n",
    "            maximum = arr[i+1]\n",
    "            \n",
    "    return maximum\n",
    "\n",
    "array = [10, 5, 20, 8, 15]\n",
    "print(findMax(array))\n",
    "\n"
   ]
  },
  {
   "cell_type": "code",
   "execution_count": 11,
   "metadata": {},
   "outputs": [
    {
     "name": "stdout",
     "output_type": "stream",
     "text": [
      "[1, 1, 2, 2, 2, 3, 3, 4, 4, 4, 5, 5]\n",
      "[1, 2, 3, 4, 5]\n"
     ]
    }
   ],
   "source": [
    "#5. Given a sorted array, remove the duplicate element without using any extra data structure. \n",
    "# arr = [1, 1, 2, 2, 2, 3, 3, 4, 4, 4, 5, 5] \n",
    "# Output = [1, 2, 3, 4, 5]\n",
    "\n",
    "def removeDuplicates(arr):\n",
    "    for element in arr:\n",
    "        for j in arr[arr.index(element)+1:]:\n",
    "            if element == j:\n",
    "                arr.remove(arr[arr.index(j)])     \n",
    "    return arr \n",
    "\n",
    "array1 = [1, 1, 2, 2, 2, 3, 3, 4, 4, 4, 5, 5]\n",
    "print(array1)\n",
    "print(removeDuplicates(array1))\n",
    "\n"
   ]
  }
 ],
 "metadata": {
  "kernelspec": {
   "display_name": "Python 3 (ipykernel)",
   "language": "python",
   "name": "python3"
  },
  "language_info": {
   "codemirror_mode": {
    "name": "ipython",
    "version": 3
   },
   "file_extension": ".py",
   "mimetype": "text/x-python",
   "name": "python",
   "nbconvert_exporter": "python",
   "pygments_lexer": "ipython3",
   "version": "3.10.8"
  }
 },
 "nbformat": 4,
 "nbformat_minor": 4
}
